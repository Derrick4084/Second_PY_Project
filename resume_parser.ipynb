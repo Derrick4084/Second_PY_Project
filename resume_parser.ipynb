{
 "cells": [
  {
   "cell_type": "code",
   "execution_count": 1,
   "metadata": {},
   "outputs": [],
   "source": [
    "import spacy          # nlp(natural language processor)\n",
    "import pdfminer       # for pdf2txt\n",
    "import re             # regex\n",
    "import os             # file manipulation\n",
    "import pandas as pd   # csv - tabular "
   ]
  },
  {
   "cell_type": "code",
   "execution_count": 2,
   "metadata": {},
   "outputs": [],
   "source": [
    "import pdf2txt    # pdf2txt file downloaded from github"
   ]
  },
  {
   "cell_type": "code",
   "execution_count": 57,
   "metadata": {},
   "outputs": [],
   "source": [
    "def convert_pdf_to_text(filename):\n",
    "    output_filename = os.path.basename(os.path.splitext(filename)[0]) + \".txt\"\n",
    "    output_filepath = os.path.join(\"Output/txt/\", output_filename)\n",
    "    pdf2txt.main(args=[filename,\"--outfile\",output_filepath])  # converts pdf to txt\n",
    "    print(output_filepath + \" saved successfully!!!\")\n",
    "    return open(output_filepath).read()"
   ]
  },
  {
   "cell_type": "code",
   "execution_count": 5,
   "metadata": {},
   "outputs": [],
   "source": [
    "nlp = spacy.load('en_core_web_sm')"
   ]
  },
  {
   "cell_type": "code",
   "execution_count": 106,
   "metadata": {},
   "outputs": [],
   "source": [
    "result_dict = {'name': [],'phone':[], 'email':[],'skills': []}\n",
    "names = []\n",
    "phones = []\n",
    "emails = []\n",
    "skills = []"
   ]
  },
  {
   "cell_type": "code",
   "execution_count": 107,
   "metadata": {},
   "outputs": [],
   "source": [
    "def parse_content(text):\n",
    "    skillset = re.compile(\"python|java|sql|hadoop|tableau\")\n",
    "    phone_num = re.compile(\n",
    "        \"(\\d{3}[-\\.\\s]??\\d{3}[-\\.\\s]??\\d{4}|\\(\\d{3}\\)\\s*\\d{3}[-\\.\\s]??\\d{4}|\\d{3}[-\\.\\s]??\\d{4})\"\n",
    "        )\n",
    "    doc = nlp(text)\n",
    "    name = [entity.text for entity in doc.ents if entity.label_ == \"PERSON\"][0]\n",
    "    print(name)\n",
    "    email = [word for word in doc if word.like_email == True][0]\n",
    "    print(email)\n",
    "    phone = str(re.findall(phone_num, text.lower()))\n",
    "    skills_list = re.findall(skillset, text.lower())\n",
    "    unique_skills_list = str(set(skills_list))\n",
    "    names.append(name)\n",
    "    skills.append(unique_skills_list)\n",
    "    phones.append(phone)\n",
    "    emails.append(email)\n",
    "    print(\"Extraction completed successfully!!!\")"
   ]
  },
  {
   "cell_type": "code",
   "execution_count": null,
   "metadata": {},
   "outputs": [],
   "source": [
    "for file in os.listdir('Resumes/'):\n",
    "    if file.endswith('.pdf'):\n",
    "        print(\"Reading.....\" + file)\n",
    "        txt = convert_pdf_to_text(os.path.join('Resumes/', file))\n",
    "        parse_content(txt)"
   ]
  },
  {
   "cell_type": "code",
   "execution_count": 109,
   "metadata": {},
   "outputs": [],
   "source": [
    "result_dict[\"email\"] = emails\n",
    "result_dict[\"name\"] = names\n",
    "result_dict[\"phone\"] = phones\n",
    "result_dict[\"skills\"] = skills"
   ]
  },
  {
   "cell_type": "code",
   "execution_count": 110,
   "metadata": {},
   "outputs": [],
   "source": [
    "result_df = pd.DataFrame(result_dict)\n",
    "#result_df"
   ]
  },
  {
   "cell_type": "code",
   "execution_count": 111,
   "metadata": {},
   "outputs": [],
   "source": [
    "result_df.to_csv(\"Output/csv/parsed_resumes.csv\")"
   ]
  }
 ],
 "metadata": {
  "interpreter": {
   "hash": "e2fe664ff9c4eb70e92ab06776fcd60037645f8b75149f2c634bbb6bf84d915f"
  },
  "kernelspec": {
   "display_name": "Python 3.9.7 64-bit ('WebScrape': venv)",
   "language": "python",
   "name": "python3"
  },
  "language_info": {
   "codemirror_mode": {
    "name": "ipython",
    "version": 3
   },
   "file_extension": ".py",
   "mimetype": "text/x-python",
   "name": "python",
   "nbconvert_exporter": "python",
   "pygments_lexer": "ipython3",
   "version": "3.9.7"
  },
  "orig_nbformat": 4
 },
 "nbformat": 4,
 "nbformat_minor": 2
}
