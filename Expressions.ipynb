{
 "cells": [
  {
   "cell_type": "code",
   "execution_count": 1,
   "metadata": {},
   "outputs": [],
   "source": [
    "import re"
   ]
  },
  {
   "cell_type": "code",
   "execution_count": null,
   "metadata": {},
   "outputs": [],
   "source": [
    "xx = \"guru99, education is fun\"\n",
    "r1 = re.findall(r\"^\\w+\",xx)\n",
    "print(r1)"
   ]
  },
  {
   "cell_type": "code",
   "execution_count": null,
   "metadata": {},
   "outputs": [],
   "source": [
    "print((re.split(r'\\s','we are splitting the words')))"
   ]
  },
  {
   "cell_type": "code",
   "execution_count": null,
   "metadata": {},
   "outputs": [],
   "source": [
    "xx = \"guru99,education is fun\"\n",
    "r1 = re.findall(r\"^\\w+\", xx)\n",
    "print(r1)\n",
    "print((re.split(r'\\s','we are splitting the words')))\n",
    "print((re.split(r's','split the words')))"
   ]
  },
  {
   "cell_type": "code",
   "execution_count": null,
   "metadata": {},
   "outputs": [],
   "source": [
    "list = [\"guru99 get\",\"guru99 give\",\"guru Selenium\",\"guru21 gelenium\" ]\n",
    "\n",
    "for element in list:\n",
    "    z = re.match(\"(g\\w+)\\W(g\\w+)\", element)\n",
    "    if z:\n",
    "        print ((z.groups()))"
   ]
  },
  {
   "cell_type": "code",
   "execution_count": null,
   "metadata": {},
   "outputs": [],
   "source": [
    "patterns = ['software testing','guru99']\n",
    "text = 'software testing is fun?'\n",
    "\n",
    "for pattern in patterns:\n",
    "    print('Looking for \"%s\" in \"%s\" -> ' % (pattern,text), end=' ')\n",
    "\n",
    "    if re.search(pattern,text):\n",
    "        print('Found a match!')\n",
    "    else:\n",
    "        print('No match')"
   ]
  },
  {
   "cell_type": "code",
   "execution_count": null,
   "metadata": {},
   "outputs": [],
   "source": [
    "abc = 'guru99@google.com, careerguru99@hotmail.com, users@yahoomail.com'\n",
    "emails = re.findall(r'[\\w\\.-]+@[\\w\\.-]+', abc)\n",
    "for email in emails:\n",
    "    print(email)"
   ]
  },
  {
   "cell_type": "code",
   "execution_count": null,
   "metadata": {},
   "outputs": [],
   "source": [
    "xy = \"\"\"guru99 careerguru99 selenium\"\"\" # not multiline\n",
    "xx = \"\"\"guru99 \n",
    "careerguru99\t\n",
    "selenium\"\"\"\n",
    "k1 = re.findall(r\"^\\w+\", xx)                #using \"^\\w+\"\n",
    "k2 = re.findall(r\"^\\w\", xx, re.MULTILINE)\n",
    "print(k1)\n",
    "print(k2)"
   ]
  },
  {
   "cell_type": "code",
   "execution_count": 16,
   "metadata": {},
   "outputs": [],
   "source": [
    "import seaborn\n",
    "import camelot\n",
    "import spacy"
   ]
  },
  {
   "cell_type": "code",
   "execution_count": 17,
   "metadata": {},
   "outputs": [],
   "source": [
    "nlp = spacy.load('en_core_web_sm')"
   ]
  },
  {
   "cell_type": "code",
   "execution_count": 24,
   "metadata": {},
   "outputs": [],
   "source": [
    "text = \"It's on the way, John Doe! Thank you for choosing Growers House. Your order is en route to your garden. Please note, it may take up to 24 hours for tracking information to be available.\""
   ]
  },
  {
   "cell_type": "code",
   "execution_count": 26,
   "metadata": {},
   "outputs": [],
   "source": [
    "doc = nlp(text)"
   ]
  },
  {
   "cell_type": "code",
   "execution_count": null,
   "metadata": {},
   "outputs": [],
   "source": [
    "for token in doc:\n",
    "    print(token)"
   ]
  },
  {
   "cell_type": "code",
   "execution_count": null,
   "metadata": {},
   "outputs": [],
   "source": [
    "for token in doc:\n",
    "    if token.pos_ == \"NOUN\":   # you can use noun,adj, etc....\n",
    "        print(token)"
   ]
  },
  {
   "cell_type": "code",
   "execution_count": null,
   "metadata": {},
   "outputs": [],
   "source": [
    "for entity in doc.ents:\n",
    "     print(entity.text, entity.label_)"
   ]
  }
 ],
 "metadata": {
  "interpreter": {
   "hash": "e2fe664ff9c4eb70e92ab06776fcd60037645f8b75149f2c634bbb6bf84d915f"
  },
  "kernelspec": {
   "display_name": "Python 3.9.7 64-bit ('WebScrape': venv)",
   "language": "python",
   "name": "python3"
  },
  "language_info": {
   "codemirror_mode": {
    "name": "ipython",
    "version": 3
   },
   "file_extension": ".py",
   "mimetype": "text/x-python",
   "name": "python",
   "nbconvert_exporter": "python",
   "pygments_lexer": "ipython3",
   "version": "3.9.7"
  },
  "orig_nbformat": 4
 },
 "nbformat": 4,
 "nbformat_minor": 2
}
